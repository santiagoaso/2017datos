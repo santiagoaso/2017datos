{
 "cells": [
  {
   "cell_type": "code",
   "execution_count": 1,
   "metadata": {
    "collapsed": true
   },
   "outputs": [],
   "source": [
    "%matplotlib inline\n",
    "\n",
    "import datetime as datetime\n",
    "import pandas as pd\n",
    "import numpy as np\n",
    "import matplotlib.pyplot as plt\n",
    "import seaborn as sns\n",
    "import math\n",
    "import calendar\n",
    "\n",
    "plt.style.use('default') # Make the graphs a bit prettier\n",
    "plt.rcParams['figure.figsize'] = (15, 5)"
   ]
  },
  {
   "cell_type": "code",
   "execution_count": 2,
   "metadata": {
    "collapsed": true
   },
   "outputs": [],
   "source": [
    "trip = pd.read_csv('data/trip_train.csv', low_memory=False)\n",
    "trip['start_date'] = pd.to_datetime(trip['start_date'])\n",
    "trip['start_hour'] = pd.to_datetime(trip['start_date'], format = '%H', errors = 'coerce').dt.hour\n",
    "trip['dia'] = trip['start_date'].dt.strftime('%w')\n",
    "trip['date'] = trip.start_date.dt.date"
   ]
  },
  {
   "cell_type": "code",
   "execution_count": 3,
   "metadata": {
    "collapsed": true
   },
   "outputs": [],
   "source": [
    "stations = pd.read_csv('./data/station.csv', low_memory=False)\n",
    "stations = stations.loc[:,['id','city']]"
   ]
  },
  {
   "cell_type": "code",
   "execution_count": 4,
   "metadata": {
    "collapsed": false
   },
   "outputs": [
    {
     "name": "stdout",
     "output_type": "stream",
     "text": [
      "Automatically created module for IPython interactive environment\n"
     ]
    }
   ],
   "source": [
    "from sklearn import linear_model\n",
    "print(__doc__)"
   ]
  },
  {
   "cell_type": "code",
   "execution_count": 5,
   "metadata": {
    "collapsed": true
   },
   "outputs": [],
   "source": [
    "salida = pd.read_csv('data/trip_test.csv', low_memory=False)\n",
    "salida['start_date'] = pd.to_datetime(salida['start_date'])\n",
    "salida['start_hour'] = pd.to_datetime(salida['start_date'], format = '%H', errors = 'coerce').dt.hour\n",
    "salida['date'] = salida['start_date'].dt.strftime('%w')"
   ]
  },
  {
   "cell_type": "code",
   "execution_count": null,
   "metadata": {
    "collapsed": false
   },
   "outputs": [
    {
     "name": "stderr",
     "output_type": "stream",
     "text": [
      "/home/geco/anaconda3/lib/python3.5/site-packages/ipykernel/__main__.py:21: UserWarning: Boolean Series key will be reindexed to match DataFrame index.\n"
     ]
    }
   ],
   "source": [
    "salidaFinal = trip[trip.date == str(7)]\n",
    "salidaFinal = salidaFinal.loc[:,['id','salida']]\n",
    "#vorrar los viajes que vuelven al mismo lugar no sirve\n",
    "#dividir entre cosutmer y no tampoco funciona\n",
    "#Elimino viajes a destinos muy \"extraños\"\n",
    "tripEntrada = trip\n",
    "tripsSalida = salida\n",
    "#tripEntrada = tripEntrada[tripEntrada.duration > 60*2]          \n",
    "tripEntrada = tripEntrada[tripEntrada.duration < 60*60*4]  \n",
    "\n",
    "T = 0;\n",
    "for y in range(0, 70):\n",
    "    for x in range(0, 7):\n",
    "        for z in range (0,25):\n",
    "            tripAuxX = tripEntrada[tripEntrada.start_station_id == stations.id[y]]\n",
    "            tripsSalidaX = tripsSalida[tripsSalida.start_station_id == stations.id[y]]\n",
    "            tripsAuxX = tripAuxX[tripAuxX.start_hour == z]\n",
    "            tripsSalidaX = tripsSalidaX[tripsSalidaX.start_hour == z]            \n",
    "            tripAuxX = tripAuxX[tripAuxX.dia == x]\n",
    "            tripsSalidaX = tripsSalidaX[tripsSalidaX.date == str(x)]\n",
    "            tripsJJ = tripAuxX[trip.date == str(7)]\n",
    "            D = 30000000000000\n",
    "            T=0\n",
    "            for P in range (0,30):\n",
    "                S = None\n",
    "                K = tripAuxX.count().id\n",
    "                Aux = tripAuxX.end_station_id.value_counts().to_frame(name='cantidades')\n",
    "                Aux['end_station_id'] = Aux.index\n",
    "                tripsJJ = pd.merge(tripAuxX, Aux, on='end_station_id', how='inner')\n",
    "                tripsJJ = tripsJJ[tripsJJ.cantidades >=  K/P]\n",
    "                l = tripsJJ.loc[:,['duration']].as_matrix(columns=None)\n",
    "                S = tripsJJ['duration'].sum()/tripsJJ.count().id  \n",
    "                Aux = tripAuxX    \n",
    "                Aux['salida']= S\n",
    "                Aux['diferencia']=(Aux['salida']-Aux['duration'])**2\n",
    "                Aux.diferencia.sum()\n",
    "                if (True != math.isnan(S)):\n",
    "                    if (D> Aux.diferencia.sum()):\n",
    "                        D=Aux.diferencia.sum()\n",
    "                        T=S\n",
    "            tripsSalidaX['salida']= T\n",
    "            tripsX= tripsSalidaX.loc[:,['id','salida']]\n",
    "            salidaFinal = salidaFinal.append(tripsX)"
   ]
  },
  {
   "cell_type": "code",
   "execution_count": null,
   "metadata": {
    "collapsed": true
   },
   "outputs": [],
   "source": [
    "salidaFinal2 = salidaFinal.sort_values(by='id', ascending=True)\n",
    "salidaFinal2['duration']= salidaFinal2['salida']\n",
    "salidaFinal2= salidaFinal2.loc[:,['id','duration']]\n",
    "salidaFinal2.to_csv(\"salida.csv\", index=False)"
   ]
  },
  {
   "cell_type": "code",
   "execution_count": null,
   "metadata": {
    "collapsed": false
   },
   "outputs": [],
   "source": [
    "#119998 \n",
    "salidaFinal2.count()"
   ]
  },
  {
   "cell_type": "code",
   "execution_count": null,
   "metadata": {
    "collapsed": true
   },
   "outputs": [],
   "source": []
  }
 ],
 "metadata": {
  "kernelspec": {
   "display_name": "Python [conda root]",
   "language": "python",
   "name": "conda-root-py"
  },
  "language_info": {
   "codemirror_mode": {
    "name": "ipython",
    "version": 3
   },
   "file_extension": ".py",
   "mimetype": "text/x-python",
   "name": "python",
   "nbconvert_exporter": "python",
   "pygments_lexer": "ipython3",
   "version": "3.5.2"
  }
 },
 "nbformat": 4,
 "nbformat_minor": 1
}
