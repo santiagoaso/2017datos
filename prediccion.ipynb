{
 "cells": [
  {
   "cell_type": "code",
   "execution_count": null,
   "metadata": {
    "collapsed": true
   },
   "outputs": [],
   "source": [
    "import pandas as pd\n",
    "import numpy as np\n",
    "from sklearn.decomposition import PCA\n",
    "from sklearn.svm import SVC\n",
    "# The competition datafiles are in the directory ../input\n",
    "# Read competition data files:\n",
    "train = pd.read_csv(\"./data/trip_train.csv\")\n",
    "# Write to the log:\n",
    "\n",
    "print(\"Training set has {0[0]} rows and {0[1]} columns\".format(train.shape))\n",
    "# Any files you write to the current directory get shown as outputs\n",
    "\n",
    "train['start_date'] = pd.to_datetime(train['start_date'])\n",
    "train['end_date'] = pd.to_datetime(train['end_date'])\n",
    "train['start_hour'] = pd.to_datetime(train['start_date'], format = '%H', errors = 'coerce').dt.hour\n",
    "train['date'] = train['start_date'].dt.strftime('%w')\n",
    "#train = train.drop('id', axis=1)\n",
    "train = train.drop('start_station_name', axis=1)\n",
    "train = train.drop('end_station_name', axis=1)\n",
    "train = train.drop('start_date', axis=1)\n",
    "train = train.drop('end_date', axis=1)\n",
    "train['subscription_type'] = (train['subscription_type'] == 'Subscriber').astype(int)\n",
    "train.ix[train.zip_code == 'nil', 'zip_code'] = 1\n",
    "train.ix[train.zip_code.str.contains('-', na=False), 'zip_code'] = train.zip_code.str.split('-')[0]\n",
    "train = train.drop('zip_code', axis=1)"
   ]
  },
  {
   "cell_type": "code",
   "execution_count": null,
   "metadata": {
    "collapsed": true
   },
   "outputs": [],
   "source": [
    "test  = pd.read_csv(\"./data/trip_test.csv\")\n",
    "print(\"Test set has {0[0]} rows and {0[1]} columns\".format(test.shape))\n",
    "test['start_date'] = pd.to_datetime(test['start_date'])\n",
    "test['end_date'] = pd.to_datetime(test['end_date'])\n",
    "test['start_hour'] = pd.to_datetime(test['start_date'], format = '%H', errors = 'coerce').dt.hour\n",
    "test['date'] = test['start_date'].dt.strftime('%w')\n",
    "#test = test.drop('id', axis=1)\n",
    "test = test.drop('start_station_name', axis=1)\n",
    "test = test.drop('end_station_name', axis=1)\n",
    "test = test.drop('start_date', axis=1)\n",
    "test = test.drop('end_date', axis=1)\n",
    "test['subscription_type'] = (test['subscription_type'] == 'Subscriber').astype(int)\n",
    "test.ix[test.zip_code == 'nil', 'zip_code'] = 1\n",
    "test.ix[test.zip_code.str.contains('-', na=False), 'zip_code'] = test.zip_code.str.split('-')[0]\n",
    "test = test.drop('zip_code', axis=1)"
   ]
  },
  {
   "cell_type": "code",
   "execution_count": null,
   "metadata": {
    "collapsed": true
   },
   "outputs": [],
   "source": [
    "#Saving\n",
    "#with open('train_parsed_with_id.csv', 'w') as writer:\n",
    "    #writer.write(train.to_csv())\n",
    "#Saving\n",
    "#with open('test_parsed_with_id.csv', 'w') as writer:\n",
    "    #writer.write(test.to_csv())"
   ]
  },
  {
   "cell_type": "code",
   "execution_count": null,
   "metadata": {
    "collapsed": true
   },
   "outputs": [],
   "source": [
    "#import pandas as pd\n",
    "#import numpy as np\n",
    "from sklearn.svm import SVR\n",
    "from sklearn.svm import SVC\n",
    "\n",
    "#train = pd.read_csv(\"./train_parsed_with_id.csv\")\n",
    "#train = train.sample(n=5000)\n",
    "#test  = pd.read_csv(\"./test_parsed_with_id.csv\")\n",
    "#test = test.sample(n=20000)\n",
    "#test = test.head(20000)\n",
    "#train = train.drop('Unnamed: 0', axis=1)\n",
    "#test = test.drop('Unnamed: 0', axis=1)\n",
    "#train = train.drop('zip_code', axis=1)\n",
    "#test = test.drop('zip_code', axis=1)"
   ]
  },
  {
   "cell_type": "code",
   "execution_count": null,
   "metadata": {
    "collapsed": false
   },
   "outputs": [],
   "source": [
    "train_label = []\n",
    "train_data = []\n",
    "\n",
    "#Read training data\n",
    "train_label = train.ix[:, 1]\n",
    "train_data = train.ix[:, train.columns != 'duration']"
   ]
  },
  {
   "cell_type": "code",
   "execution_count": null,
   "metadata": {
    "collapsed": false
   },
   "outputs": [],
   "source": [
    "from sklearn.preprocessing import StandardScaler\n",
    "scaler = StandardScaler()\n",
    "train_data = scaler.fit_transform(train_data)\n",
    "scaler = StandardScaler()\n",
    "test = scaler.fit_transform(test)"
   ]
  },
  {
   "cell_type": "code",
   "execution_count": null,
   "metadata": {
    "collapsed": false
   },
   "outputs": [],
   "source": [
    "from sklearn.decomposition import TruncatedSVD\n",
    "from sklearn.random_projection import sparse_random_matrix\n",
    "\n",
    "svd = TruncatedSVD(n_components=4, n_iter=50, random_state=42)\n",
    "svd.fit(train_data) \n",
    "\n",
    "train_data = svd.transform(train_data)\n",
    "test = svd.transform(test)"
   ]
  },
  {
   "cell_type": "code",
   "execution_count": null,
   "metadata": {
    "collapsed": true
   },
   "outputs": [],
   "source": [
    "from sklearn import preprocessing\n",
    "scaler = preprocessing.StandardScaler().fit(train_data)\n",
    "train_data = scaler.transform(train_data)  "
   ]
  },
  {
   "cell_type": "code",
   "execution_count": null,
   "metadata": {
    "collapsed": false
   },
   "outputs": [],
   "source": [
    "from sklearn.svm import SVC\n",
    "clf = SVC(C=1e5, gamma=0.1)"
   ]
  },
  {
   "cell_type": "code",
   "execution_count": null,
   "metadata": {
    "collapsed": false
   },
   "outputs": [],
   "source": [
    "clf_fit = clf.fit(train_data, train_label)"
   ]
  },
  {
   "cell_type": "code",
   "execution_count": null,
   "metadata": {
    "collapsed": false
   },
   "outputs": [],
   "source": [
    "prediction = clf_fit.predict(test)\n",
    "prediction"
   ]
  },
  {
   "cell_type": "code",
   "execution_count": null,
   "metadata": {
    "collapsed": true
   },
   "outputs": [],
   "source": []
  }
 ],
 "metadata": {
  "kernelspec": {
   "display_name": "Python 2",
   "language": "python",
   "name": "python2"
  },
  "language_info": {
   "codemirror_mode": {
    "name": "ipython",
    "version": 2
   },
   "file_extension": ".py",
   "mimetype": "text/x-python",
   "name": "python",
   "nbconvert_exporter": "python",
   "pygments_lexer": "ipython2",
   "version": "2.7.13"
  }
 },
 "nbformat": 4,
 "nbformat_minor": 2
}
