{
 "cells": [
  {
   "cell_type": "code",
   "execution_count": 1,
   "metadata": {
    "collapsed": true
   },
   "outputs": [],
   "source": [
    "%matplotlib inline\n",
    "\n",
    "import datetime as datetime\n",
    "import pandas as pd\n",
    "import numpy as np\n",
    "import matplotlib.pyplot as plt\n",
    "import seaborn as sns\n",
    "import math\n",
    "import calendar\n",
    "\n",
    "plt.style.use('default') # Make the graphs a bit prettier\n",
    "plt.rcParams['figure.figsize'] = (15, 5)"
   ]
  },
  {
   "cell_type": "code",
   "execution_count": 13,
   "metadata": {
    "collapsed": false
   },
   "outputs": [
    {
     "name": "stdout",
     "output_type": "stream",
     "text": [
      "Automatically created module for IPython interactive environment\n"
     ]
    }
   ],
   "source": [
    "from sklearn import linear_model\n",
    "print(__doc__)"
   ]
  },
  {
   "cell_type": "code",
   "execution_count": 2,
   "metadata": {
    "collapsed": true
   },
   "outputs": [],
   "source": [
    "trip = pd.read_csv('data/trip_train.csv', low_memory=False)\n",
    "trip['start_date'] = pd.to_datetime(trip['start_date'])\n",
    "trip['start_hour'] = pd.to_datetime(trip['start_date'], format = '%H', errors = 'coerce').dt.hour\n",
    "trip['dia'] = trip['start_date'].dt.strftime('%w')\n",
    "trip['date'] = trip.start_date.dt.date"
   ]
  },
  {
   "cell_type": "code",
   "execution_count": 9,
   "metadata": {
    "collapsed": false
   },
   "outputs": [],
   "source": [
    "stations = pd.read_csv('./data/station.csv', low_memory=False)"
   ]
  },
  {
   "cell_type": "code",
   "execution_count": 4,
   "metadata": {
    "collapsed": true
   },
   "outputs": [],
   "source": [
    "salida = pd.read_csv('data/trip_test.csv', low_memory=False)\n",
    "#esto tarda\n",
    "salida['start_date'] = pd.to_datetime(salida['start_date'])\n",
    "salida['start_hour'] = pd.to_datetime(salida['start_date'], format = '%H', errors = 'coerce').dt.hour\n",
    "salida['date'] = salida['start_date'].dt.strftime('%w')\n"
   ]
  },
  {
   "cell_type": "code",
   "execution_count": 89,
   "metadata": {
    "collapsed": false
   },
   "outputs": [],
   "source": [
    "#Distancias Mangatan.\n",
    "stationsStart = stations\n",
    "stationsStart['start_station_id'] = stations['id']\n",
    "stationsStart['start_lat'] = stations['lat']\n",
    "stationsStart['start_long'] = stations['long']\n",
    "stationsStart = stationsStart.loc[:,['start_station_id','start_lat','start_long']]\n",
    "stationsEnd = stations\n",
    "stationsEnd['end_station_id'] = stations['id']\n",
    "stationsEnd['end_lat'] = stations['lat']\n",
    "stationsEnd['end_long'] = stations['long']\n",
    "stationsEnd = stationsEnd.loc[:,['end_station_id','end_lat','end_long']]\n",
    "tripEntrada = trip\n",
    "tripEntrada = pd.merge(tripEntrada, stationsStart, on='start_station_id', how='right')\n",
    "tripEntrada = pd.merge(tripEntrada, stationsEnd, on='end_station_id', how='right')\n",
    "tripEntrada['distancia'] = (((tripEntrada['start_lat']-tripEntrada['end_lat'])**2+(tripEntrada['start_long']-tripEntrada['end_long'])**2)**0.5)*10000\n",
    "tripsSalida = salida\n",
    "tripsSalida = pd.merge(tripsSalida, stationsStart, on='start_station_id', how='right')\n",
    "tripsSalida = pd.merge(tripsSalida, stationsEnd, on='end_station_id', how='right')\n",
    "tripsSalida['distancia'] = (((tripsSalida['start_lat']-tripsSalida['end_lat'])**2+(tripsSalida['start_long']-tripsSalida['end_long'])**2)**0.5)*10000\n"
   ]
  },
  {
   "cell_type": "code",
   "execution_count": 90,
   "metadata": {
    "collapsed": false
   },
   "outputs": [],
   "source": [
    "salidaFinal = trip[trip.date == str(7)]\n",
    "salidaFinal = salidaFinal.loc[:,['id','duration']]\n",
    "\n",
    "#tripEntrada = tripEntrada[tripEntrada.duration > 60*2]     \n",
    "tripEntrada = tripEntrada[tripEntrada.distancia != 0] \n",
    "tripEntrada = tripEntrada[tripEntrada.duration < 60*60*24]  \n",
    "\n",
    "#import math\n",
    "#x=float('nan')\n",
    "#math.isnan(x)\n",
    "\n",
    "T = 0;\n",
    "for y in range(0, 70):\n",
    "    for x in range(0, 7):\n",
    "        for z in range (0,25):\n",
    "            tripAuxX = tripEntrada[tripEntrada.start_station_id == stations2.id[y]]\n",
    "            tripsSalidaX = tripsSalida[tripsSalida.start_station_id == stations2.id[y]]         \n",
    "            tripsAuxX = tripAuxX[tripAuxX.start_hour == z]\n",
    "            tripsSalidaX = tripsSalidaX[tripsSalidaX.start_hour == z]            \n",
    "            tripAuxX = tripAuxX[tripAuxX.dia == str(x)]\n",
    "            tripsSalidaX = tripsSalidaX[tripsSalidaX.date == str(x)]\n",
    "        \n",
    "            if(tripAuxX.count().id > 0):\n",
    "                entradaX = tripAuxX.loc[:,['distancia']].as_matrix(columns=None)\n",
    "                entradaY = tripAuxX.loc[:,['duration']].as_matrix(columns=None)\n",
    "\n",
    "                regr = linear_model.LinearRegression()\n",
    "                regr.fit(entradaY, entradaY)\n",
    "\n",
    "                if(tripsSalidaX.count().id > 0):\n",
    "                    salidaX = tripsSalidaX.loc[:,['distancia']].as_matrix(columns=None)\n",
    "                    salidaY = regr.predict(salidaX) \n",
    "                    tripsSalidaX['duration'] = salidaY\n",
    "\n",
    "                    tripsX= tripsSalidaX.loc[:,['id','duration']]\n",
    "                    salidaFinal = salidaFinal.append(tripsX)"
   ]
  },
  {
   "cell_type": "code",
   "execution_count": 91,
   "metadata": {
    "collapsed": false,
    "scrolled": true
   },
   "outputs": [
    {
     "name": "stderr",
     "output_type": "stream",
     "text": [
      "/home/geco/anaconda3/lib/python3.5/site-packages/ipykernel/__main__.py:2: SettingWithCopyWarning: \n",
      "A value is trying to be set on a copy of a slice from a DataFrame.\n",
      "Try using .loc[row_indexer,col_indexer] = value instead\n",
      "\n",
      "See the caveats in the documentation: http://pandas.pydata.org/pandas-docs/stable/indexing.html#indexing-view-versus-copy\n",
      "  from ipykernel import kernelapp as app\n"
     ]
    }
   ],
   "source": [
    "menores = salidaFinal[salidaFinal.duration <60]      \n",
    "menores['duration'] = 60\n",
    "salidaFinal2 = salidaFinal[salidaFinal.duration >60] \n",
    "salidaFinal2 = salidaFinal2.append(menores)"
   ]
  },
  {
   "cell_type": "code",
   "execution_count": 92,
   "metadata": {
    "collapsed": true
   },
   "outputs": [],
   "source": [
    "salidaFinal2 = salidaFinal2.sort_values(by='id', ascending=True)\n",
    "salidaFinal2.to_csv(\"salida.csv\", index=False)"
   ]
  },
  {
   "cell_type": "code",
   "execution_count": 93,
   "metadata": {
    "collapsed": false
   },
   "outputs": [
    {
     "data": {
      "text/plain": [
       "id          119998\n",
       "duration    119998\n",
       "dtype: int64"
      ]
     },
     "execution_count": 93,
     "metadata": {},
     "output_type": "execute_result"
    }
   ],
   "source": [
    "#119998 \n",
    "salidaFinal2.count()"
   ]
  },
  {
   "cell_type": "code",
   "execution_count": 77,
   "metadata": {
    "collapsed": false
   },
   "outputs": [
    {
     "data": {
      "text/plain": [
       "1446"
      ]
     },
     "execution_count": 77,
     "metadata": {},
     "output_type": "execute_result"
    }
   ],
   "source": [
    "tripAuxX.count().id"
   ]
  },
  {
   "cell_type": "code",
   "execution_count": null,
   "metadata": {
    "collapsed": true
   },
   "outputs": [],
   "source": []
  }
 ],
 "metadata": {
  "kernelspec": {
   "display_name": "Python [default]",
   "language": "python",
   "name": "python3"
  },
  "language_info": {
   "codemirror_mode": {
    "name": "ipython",
    "version": 3
   },
   "file_extension": ".py",
   "mimetype": "text/x-python",
   "name": "python",
   "nbconvert_exporter": "python",
   "pygments_lexer": "ipython3",
   "version": "3.5.2"
  }
 },
 "nbformat": 4,
 "nbformat_minor": 1
}
